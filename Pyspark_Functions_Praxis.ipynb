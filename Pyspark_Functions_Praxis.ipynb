{
  "nbformat": 4,
  "nbformat_minor": 0,
  "metadata": {
    "colab": {
      "provenance": []
    },
    "kernelspec": {
      "name": "python3",
      "display_name": "Python 3"
    },
    "language_info": {
      "name": "python"
    }
  },
  "cells": [
    {
      "cell_type": "markdown",
      "source": [
        "**Pyspark Functions**\n",
        "\n",
        "- will load one data set\n",
        "\n",
        "- will read through spark\n",
        "\n",
        "- will perform some operations"
      ],
      "metadata": {
        "id": "eU6LqmDd-FdO"
      }
    },
    {
      "cell_type": "code",
      "execution_count": null,
      "metadata": {
        "colab": {
          "base_uri": "https://localhost:8080/"
        },
        "id": "I8cigEUy9Eoa",
        "outputId": "a2538ee7-50b8-41ff-8f0a-766de8ceab01"
      },
      "outputs": [
        {
          "output_type": "stream",
          "name": "stdout",
          "text": [
            "Collecting pyspark\n",
            "  Downloading pyspark-3.4.1.tar.gz (310.8 MB)\n",
            "\u001b[2K     \u001b[90m━━━━━━━━━━━━━━━━━━━━━━━━━━━━━━━━━━━━━━━\u001b[0m \u001b[32m310.8/310.8 MB\u001b[0m \u001b[31m3.1 MB/s\u001b[0m eta \u001b[36m0:00:00\u001b[0m\n",
            "\u001b[?25h  Preparing metadata (setup.py) ... \u001b[?25l\u001b[?25hdone\n",
            "Requirement already satisfied: py4j==0.10.9.7 in /usr/local/lib/python3.10/dist-packages (from pyspark) (0.10.9.7)\n",
            "Building wheels for collected packages: pyspark\n",
            "  Building wheel for pyspark (setup.py) ... \u001b[?25l\u001b[?25hdone\n",
            "  Created wheel for pyspark: filename=pyspark-3.4.1-py2.py3-none-any.whl size=311285388 sha256=5c17609e46e4f0f587e9505e7b0702dbbf7d467e0efb53750ef181725b7aedc4\n",
            "  Stored in directory: /root/.cache/pip/wheels/0d/77/a3/ff2f74cc9ab41f8f594dabf0579c2a7c6de920d584206e0834\n",
            "Successfully built pyspark\n",
            "Installing collected packages: pyspark\n",
            "Successfully installed pyspark-3.4.1\n"
          ]
        }
      ],
      "source": [
        "# Step-1:\n",
        "\n",
        "!pip install pyspark\n",
        "\n",
        "\n",
        "# step-2:\n",
        "\n",
        "from pyspark.sql import SparkSession\n",
        "spark=SparkSession.builder.master(\"local[1]\") \\\n",
        "                          .appName(\"Spark_Examples\") \\\n",
        "                          .getOrCreate()\n",
        "\n",
        "spark\n",
        "\n",
        "\n",
        "#### step-3\n",
        "sc=spark.sparkContext"
      ]
    },
    {
      "cell_type": "code",
      "source": [
        "# Read the csv file\n",
        "bank_data_spark=spark.read.csv('/content/bank.csv',\n",
        "                               header=True,            # Header will give all the columns\n",
        "                               sep=';',\n",
        "                               inferSchema=True)      # provide original schema\n",
        "\n",
        "bank_data_spark"
      ],
      "metadata": {
        "colab": {
          "base_uri": "https://localhost:8080/"
        },
        "id": "1D0Sd_Uy9Sxi",
        "outputId": "29e4f4b7-4cd1-4ad4-a0fc-73837b23c241"
      },
      "execution_count": null,
      "outputs": [
        {
          "output_type": "execute_result",
          "data": {
            "text/plain": [
              "DataFrame[age: int, job: string, marital: string, education: string, default: string, balance: int, housing: string, loan: string, contact: string, day: int, month: string, duration: int, campaign: int, pdays: int, previous: int, poutcome: string, y: string]"
            ]
          },
          "metadata": {},
          "execution_count": 2
        }
      ]
    },
    {
      "cell_type": "code",
      "source": [
        "bank_data_spark.printSchema()"
      ],
      "metadata": {
        "colab": {
          "base_uri": "https://localhost:8080/"
        },
        "id": "SUFnKuNT_L_r",
        "outputId": "4fc51cd2-ff9a-427d-817e-c5ace703d4f7"
      },
      "execution_count": null,
      "outputs": [
        {
          "output_type": "stream",
          "name": "stdout",
          "text": [
            "root\n",
            " |-- age: integer (nullable = true)\n",
            " |-- job: string (nullable = true)\n",
            " |-- marital: string (nullable = true)\n",
            " |-- education: string (nullable = true)\n",
            " |-- default: string (nullable = true)\n",
            " |-- balance: integer (nullable = true)\n",
            " |-- housing: string (nullable = true)\n",
            " |-- loan: string (nullable = true)\n",
            " |-- contact: string (nullable = true)\n",
            " |-- day: integer (nullable = true)\n",
            " |-- month: string (nullable = true)\n",
            " |-- duration: integer (nullable = true)\n",
            " |-- campaign: integer (nullable = true)\n",
            " |-- pdays: integer (nullable = true)\n",
            " |-- previous: integer (nullable = true)\n",
            " |-- poutcome: string (nullable = true)\n",
            " |-- y: string (nullable = true)\n",
            "\n"
          ]
        }
      ]
    },
    {
      "cell_type": "code",
      "source": [
        "## Read a column\n",
        "# if we read only bank_data_spark ===== > data types\n",
        "# inorder to see the data ====== > we need to perform action\n",
        "bank_data_spark.show()"
      ],
      "metadata": {
        "colab": {
          "base_uri": "https://localhost:8080/"
        },
        "id": "3zlkaQte_XNd",
        "outputId": "d7ae0e9a-9d83-49df-e8f3-3c7eb85d2e48"
      },
      "execution_count": null,
      "outputs": [
        {
          "output_type": "stream",
          "name": "stdout",
          "text": [
            "+---+-------------+-------+---------+-------+-------+-------+----+--------+---+-----+--------+--------+-----+--------+--------+---+\n",
            "|age|          job|marital|education|default|balance|housing|loan| contact|day|month|duration|campaign|pdays|previous|poutcome|  y|\n",
            "+---+-------------+-------+---------+-------+-------+-------+----+--------+---+-----+--------+--------+-----+--------+--------+---+\n",
            "| 30|   unemployed|married|  primary|     no|   1787|     no|  no|cellular| 19|  oct|      79|       1|   -1|       0| unknown| no|\n",
            "| 33|     services|married|secondary|     no|   4789|    yes| yes|cellular| 11|  may|     220|       1|  339|       4| failure| no|\n",
            "| 35|   management| single| tertiary|     no|   1350|    yes|  no|cellular| 16|  apr|     185|       1|  330|       1| failure| no|\n",
            "| 30|   management|married| tertiary|     no|   1476|    yes| yes| unknown|  3|  jun|     199|       4|   -1|       0| unknown| no|\n",
            "| 59|  blue-collar|married|secondary|     no|      0|    yes|  no| unknown|  5|  may|     226|       1|   -1|       0| unknown| no|\n",
            "| 35|   management| single| tertiary|     no|    747|     no|  no|cellular| 23|  feb|     141|       2|  176|       3| failure| no|\n",
            "| 36|self-employed|married| tertiary|     no|    307|    yes|  no|cellular| 14|  may|     341|       1|  330|       2|   other| no|\n",
            "| 39|   technician|married|secondary|     no|    147|    yes|  no|cellular|  6|  may|     151|       2|   -1|       0| unknown| no|\n",
            "| 41| entrepreneur|married| tertiary|     no|    221|    yes|  no| unknown| 14|  may|      57|       2|   -1|       0| unknown| no|\n",
            "| 43|     services|married|  primary|     no|    -88|    yes| yes|cellular| 17|  apr|     313|       1|  147|       2| failure| no|\n",
            "| 39|     services|married|secondary|     no|   9374|    yes|  no| unknown| 20|  may|     273|       1|   -1|       0| unknown| no|\n",
            "| 43|       admin.|married|secondary|     no|    264|    yes|  no|cellular| 17|  apr|     113|       2|   -1|       0| unknown| no|\n",
            "| 36|   technician|married| tertiary|     no|   1109|     no|  no|cellular| 13|  aug|     328|       2|   -1|       0| unknown| no|\n",
            "| 20|      student| single|secondary|     no|    502|     no|  no|cellular| 30|  apr|     261|       1|   -1|       0| unknown|yes|\n",
            "| 31|  blue-collar|married|secondary|     no|    360|    yes| yes|cellular| 29|  jan|      89|       1|  241|       1| failure| no|\n",
            "| 40|   management|married| tertiary|     no|    194|     no| yes|cellular| 29|  aug|     189|       2|   -1|       0| unknown| no|\n",
            "| 56|   technician|married|secondary|     no|   4073|     no|  no|cellular| 27|  aug|     239|       5|   -1|       0| unknown| no|\n",
            "| 37|       admin.| single| tertiary|     no|   2317|    yes|  no|cellular| 20|  apr|     114|       1|  152|       2| failure| no|\n",
            "| 25|  blue-collar| single|  primary|     no|   -221|    yes|  no| unknown| 23|  may|     250|       1|   -1|       0| unknown| no|\n",
            "| 31|     services|married|secondary|     no|    132|     no|  no|cellular|  7|  jul|     148|       1|  152|       1|   other| no|\n",
            "+---+-------------+-------+---------+-------+-------+-------+----+--------+---+-----+--------+--------+-----+--------+--------+---+\n",
            "only showing top 20 rows\n",
            "\n"
          ]
        }
      ]
    },
    {
      "cell_type": "code",
      "source": [
        "display(bank_data_spark)"
      ],
      "metadata": {
        "colab": {
          "base_uri": "https://localhost:8080/",
          "height": 52
        },
        "id": "myPlvOH-_6N7",
        "outputId": "d53b9fdc-aeb8-4f40-cadf-b1d8f68aa0a7"
      },
      "execution_count": null,
      "outputs": [
        {
          "output_type": "display_data",
          "data": {
            "text/plain": [
              "DataFrame[age: int, job: string, marital: string, education: string, default: string, balance: int, housing: string, loan: string, contact: string, day: int, month: string, duration: int, campaign: int, pdays: int, previous: int, poutcome: string, y: string]"
            ]
          },
          "metadata": {}
        }
      ]
    },
    {
      "cell_type": "markdown",
      "source": [
        "$Select$"
      ],
      "metadata": {
        "id": "TspQ6Zm_AZC3"
      }
    },
    {
      "cell_type": "code",
      "source": [
        "# select will use read a specific columns\n",
        "bank_data_spark.select('balance').show()"
      ],
      "metadata": {
        "colab": {
          "base_uri": "https://localhost:8080/"
        },
        "id": "i3MImmLuAOf-",
        "outputId": "31557290-a15c-4f73-ff2d-2184370734d9"
      },
      "execution_count": null,
      "outputs": [
        {
          "output_type": "stream",
          "name": "stdout",
          "text": [
            "+-------+\n",
            "|balance|\n",
            "+-------+\n",
            "|   1787|\n",
            "|   4789|\n",
            "|   1350|\n",
            "|   1476|\n",
            "|      0|\n",
            "|    747|\n",
            "|    307|\n",
            "|    147|\n",
            "|    221|\n",
            "|    -88|\n",
            "|   9374|\n",
            "|    264|\n",
            "|   1109|\n",
            "|    502|\n",
            "|    360|\n",
            "|    194|\n",
            "|   4073|\n",
            "|   2317|\n",
            "|   -221|\n",
            "|    132|\n",
            "+-------+\n",
            "only showing top 20 rows\n",
            "\n"
          ]
        }
      ]
    },
    {
      "cell_type": "markdown",
      "source": [
        "- sum\n",
        "\n",
        "- max\n",
        "\n",
        "- min\n",
        "\n",
        "- avg"
      ],
      "metadata": {
        "id": "QWxTOuLvBKVG"
      }
    },
    {
      "cell_type": "code",
      "source": [
        "from pyspark.sql.functions import sum,max,min,avg,round"
      ],
      "metadata": {
        "id": "VdkE85POAj5C"
      },
      "execution_count": null,
      "outputs": []
    },
    {
      "cell_type": "code",
      "source": [
        "bank_data_spark.select(max('balance')).show()"
      ],
      "metadata": {
        "colab": {
          "base_uri": "https://localhost:8080/"
        },
        "id": "fCF6f0alBepE",
        "outputId": "96fdb624-55c9-4c8a-a9b4-97f39e7ad69a"
      },
      "execution_count": null,
      "outputs": [
        {
          "output_type": "stream",
          "name": "stdout",
          "text": [
            "+------------+\n",
            "|max(balance)|\n",
            "+------------+\n",
            "|       71188|\n",
            "+------------+\n",
            "\n"
          ]
        }
      ]
    },
    {
      "cell_type": "code",
      "source": [
        "bank_data_spark.select(avg('balance')).show()"
      ],
      "metadata": {
        "colab": {
          "base_uri": "https://localhost:8080/"
        },
        "id": "1_h_C6oDBsX8",
        "outputId": "286c8cdf-d702-4e8c-d9f1-d24fa8b07a17"
      },
      "execution_count": null,
      "outputs": [
        {
          "output_type": "stream",
          "name": "stdout",
          "text": [
            "+------------------+\n",
            "|      avg(balance)|\n",
            "+------------------+\n",
            "|1422.6578190665782|\n",
            "+------------------+\n",
            "\n"
          ]
        }
      ]
    },
    {
      "cell_type": "code",
      "source": [
        "bank_data_spark.select(round(avg('balance'))).show()\n",
        "\n",
        "# round(value,<num>)\n",
        "# bank_data_spark.select(round(value,<num>)).show()\n",
        "# value=avg('balance')"
      ],
      "metadata": {
        "colab": {
          "base_uri": "https://localhost:8080/"
        },
        "id": "8tZjt9QUCGzI",
        "outputId": "b5d81759-7b7b-4677-b522-9d12e72e91a2"
      },
      "execution_count": null,
      "outputs": [
        {
          "output_type": "stream",
          "name": "stdout",
          "text": [
            "+----------------------+\n",
            "|round(avg(balance), 0)|\n",
            "+----------------------+\n",
            "|                1423.0|\n",
            "+----------------------+\n",
            "\n"
          ]
        }
      ]
    },
    {
      "cell_type": "code",
      "source": [
        "val1=bank_data_spark.select(round(avg('balance'),3))\n",
        "val1.show()"
      ],
      "metadata": {
        "colab": {
          "base_uri": "https://localhost:8080/"
        },
        "id": "UnIHwzGgCa4G",
        "outputId": "80e3cc1f-ea18-4ebb-b27f-bd7066e20519"
      },
      "execution_count": null,
      "outputs": [
        {
          "output_type": "stream",
          "name": "stdout",
          "text": [
            "+----------------------+\n",
            "|round(avg(balance), 3)|\n",
            "+----------------------+\n",
            "|              1422.658|\n",
            "+----------------------+\n",
            "\n"
          ]
        }
      ]
    },
    {
      "cell_type": "code",
      "source": [
        "type(val1)"
      ],
      "metadata": {
        "colab": {
          "base_uri": "https://localhost:8080/"
        },
        "id": "dakxCRbfC2mO",
        "outputId": "321dc3d0-ca5c-42d4-d307-7c7ca32bc5e9"
      },
      "execution_count": null,
      "outputs": [
        {
          "output_type": "execute_result",
          "data": {
            "text/plain": [
              "pyspark.sql.dataframe.DataFrame"
            ]
          },
          "metadata": {},
          "execution_count": 15
        }
      ]
    },
    {
      "cell_type": "code",
      "source": [
        "# if you want change the column name\n",
        "# alias operation\n",
        "\n",
        "# val1=max('balance').alias('sum_balance')\n",
        "\n",
        "# bank_data_spark.select(val1)\n",
        "\n",
        "sum1=bank_data_spark.select(max('balance').alias('sum_balance'))\n",
        "\n",
        "sum1.show()\n",
        "# column name:  max('balance')"
      ],
      "metadata": {
        "colab": {
          "base_uri": "https://localhost:8080/"
        },
        "id": "UTy69X98DTRV",
        "outputId": "8c92a719-5a99-49f1-eb1e-64f24a7d4098"
      },
      "execution_count": null,
      "outputs": [
        {
          "output_type": "stream",
          "name": "stdout",
          "text": [
            "+-----------+\n",
            "|sum_balance|\n",
            "+-----------+\n",
            "|      71188|\n",
            "+-----------+\n",
            "\n"
          ]
        }
      ]
    },
    {
      "cell_type": "code",
      "source": [
        "sum1=bank_data_spark.select(max('balance').alias('sum_balance'))\n",
        "\n",
        "sum1.show(truncate=False)"
      ],
      "metadata": {
        "colab": {
          "base_uri": "https://localhost:8080/"
        },
        "id": "DffOlQ9FD5S7",
        "outputId": "34978cc9-c188-425a-bbaa-e04f6d2e07e6"
      },
      "execution_count": null,
      "outputs": [
        {
          "output_type": "stream",
          "name": "stdout",
          "text": [
            "+-----------+\n",
            "|sum_balance|\n",
            "+-----------+\n",
            "|71188      |\n",
            "+-----------+\n",
            "\n"
          ]
        }
      ]
    },
    {
      "cell_type": "code",
      "source": [
        "#from pyspark.sql.functions import sum,max,min,avg,round\n",
        "\n",
        "import pyspark.sql.functions as F\n",
        "\n",
        "# F.sum   F.avg  F.max\n",
        "\n",
        "bank_data_spark.select(F.max('balance').alias('sum_balance')).show()"
      ],
      "metadata": {
        "colab": {
          "base_uri": "https://localhost:8080/"
        },
        "id": "iPqtMqRbE1-4",
        "outputId": "5798d87e-c4f4-4a86-a4bb-321d3c24520d"
      },
      "execution_count": null,
      "outputs": [
        {
          "output_type": "stream",
          "name": "stdout",
          "text": [
            "+-----------+\n",
            "|sum_balance|\n",
            "+-----------+\n",
            "|      71188|\n",
            "+-----------+\n",
            "\n"
          ]
        }
      ]
    },
    {
      "cell_type": "code",
      "source": [
        "dir(F)"
      ],
      "metadata": {
        "colab": {
          "base_uri": "https://localhost:8080/"
        },
        "id": "4W2HDtg1FcQk",
        "outputId": "4ff6cbec-771e-4003-f37e-a4a42af91566"
      },
      "execution_count": null,
      "outputs": [
        {
          "output_type": "execute_result",
          "data": {
            "text/plain": [
              "['Any',\n",
              " 'ArrayType',\n",
              " 'Callable',\n",
              " 'Column',\n",
              " 'DataFrame',\n",
              " 'DataType',\n",
              " 'Dict',\n",
              " 'Iterable',\n",
              " 'JVMView',\n",
              " 'List',\n",
              " 'Optional',\n",
              " 'PandasUDFType',\n",
              " 'PySparkTypeError',\n",
              " 'PySparkValueError',\n",
              " 'PythonEvalType',\n",
              " 'SparkContext',\n",
              " 'StringType',\n",
              " 'StructType',\n",
              " 'TYPE_CHECKING',\n",
              " 'Tuple',\n",
              " 'Union',\n",
              " 'UserDefinedFunction',\n",
              " 'ValuesView',\n",
              " '__builtins__',\n",
              " '__cached__',\n",
              " '__doc__',\n",
              " '__file__',\n",
              " '__loader__',\n",
              " '__name__',\n",
              " '__package__',\n",
              " '__spec__',\n",
              " '_create_column_from_literal',\n",
              " '_create_lambda',\n",
              " '_create_py_udf',\n",
              " '_from_numpy_type',\n",
              " '_get_jvm_function',\n",
              " '_get_lambda_parameters',\n",
              " '_invoke_binary_math_function',\n",
              " '_invoke_function',\n",
              " '_invoke_function_over_columns',\n",
              " '_invoke_function_over_seq_of_columns',\n",
              " '_invoke_higher_order_function',\n",
              " '_options_to_str',\n",
              " '_test',\n",
              " '_to_java_column',\n",
              " '_to_seq',\n",
              " '_unresolved_named_lambda_variable',\n",
              " 'abs',\n",
              " 'acos',\n",
              " 'acosh',\n",
              " 'add_months',\n",
              " 'aggregate',\n",
              " 'approxCountDistinct',\n",
              " 'approx_count_distinct',\n",
              " 'array',\n",
              " 'array_append',\n",
              " 'array_compact',\n",
              " 'array_contains',\n",
              " 'array_distinct',\n",
              " 'array_except',\n",
              " 'array_insert',\n",
              " 'array_intersect',\n",
              " 'array_join',\n",
              " 'array_max',\n",
              " 'array_min',\n",
              " 'array_position',\n",
              " 'array_remove',\n",
              " 'array_repeat',\n",
              " 'array_sort',\n",
              " 'array_union',\n",
              " 'arrays_overlap',\n",
              " 'arrays_zip',\n",
              " 'asc',\n",
              " 'asc_nulls_first',\n",
              " 'asc_nulls_last',\n",
              " 'ascii',\n",
              " 'asin',\n",
              " 'asinh',\n",
              " 'assert_true',\n",
              " 'atan',\n",
              " 'atan2',\n",
              " 'atanh',\n",
              " 'avg',\n",
              " 'base64',\n",
              " 'bin',\n",
              " 'bit_length',\n",
              " 'bitwiseNOT',\n",
              " 'bitwise_not',\n",
              " 'broadcast',\n",
              " 'bround',\n",
              " 'bucket',\n",
              " 'call_udf',\n",
              " 'cast',\n",
              " 'cbrt',\n",
              " 'ceil',\n",
              " 'coalesce',\n",
              " 'col',\n",
              " 'collect_list',\n",
              " 'collect_set',\n",
              " 'column',\n",
              " 'concat',\n",
              " 'concat_ws',\n",
              " 'conv',\n",
              " 'corr',\n",
              " 'cos',\n",
              " 'cosh',\n",
              " 'cot',\n",
              " 'count',\n",
              " 'countDistinct',\n",
              " 'count_distinct',\n",
              " 'covar_pop',\n",
              " 'covar_samp',\n",
              " 'crc32',\n",
              " 'create_map',\n",
              " 'csc',\n",
              " 'cume_dist',\n",
              " 'current_date',\n",
              " 'current_timestamp',\n",
              " 'date_add',\n",
              " 'date_format',\n",
              " 'date_sub',\n",
              " 'date_trunc',\n",
              " 'datediff',\n",
              " 'dayofmonth',\n",
              " 'dayofweek',\n",
              " 'dayofyear',\n",
              " 'days',\n",
              " 'decode',\n",
              " 'degrees',\n",
              " 'dense_rank',\n",
              " 'desc',\n",
              " 'desc_nulls_first',\n",
              " 'desc_nulls_last',\n",
              " 'element_at',\n",
              " 'encode',\n",
              " 'exists',\n",
              " 'exp',\n",
              " 'explode',\n",
              " 'explode_outer',\n",
              " 'expm1',\n",
              " 'expr',\n",
              " 'factorial',\n",
              " 'filter',\n",
              " 'first',\n",
              " 'flatten',\n",
              " 'floor',\n",
              " 'forall',\n",
              " 'format_number',\n",
              " 'format_string',\n",
              " 'from_csv',\n",
              " 'from_json',\n",
              " 'from_unixtime',\n",
              " 'from_utc_timestamp',\n",
              " 'functools',\n",
              " 'get',\n",
              " 'get_active_spark_context',\n",
              " 'get_json_object',\n",
              " 'greatest',\n",
              " 'grouping',\n",
              " 'grouping_id',\n",
              " 'has_numpy',\n",
              " 'hash',\n",
              " 'hex',\n",
              " 'hour',\n",
              " 'hours',\n",
              " 'hypot',\n",
              " 'initcap',\n",
              " 'inline',\n",
              " 'inline_outer',\n",
              " 'input_file_name',\n",
              " 'inspect',\n",
              " 'instr',\n",
              " 'isnan',\n",
              " 'isnull',\n",
              " 'json_tuple',\n",
              " 'kurtosis',\n",
              " 'lag',\n",
              " 'last',\n",
              " 'last_day',\n",
              " 'lead',\n",
              " 'least',\n",
              " 'length',\n",
              " 'levenshtein',\n",
              " 'lit',\n",
              " 'localtimestamp',\n",
              " 'locate',\n",
              " 'log',\n",
              " 'log10',\n",
              " 'log1p',\n",
              " 'log2',\n",
              " 'lower',\n",
              " 'lpad',\n",
              " 'ltrim',\n",
              " 'make_date',\n",
              " 'map_concat',\n",
              " 'map_contains_key',\n",
              " 'map_entries',\n",
              " 'map_filter',\n",
              " 'map_from_arrays',\n",
              " 'map_from_entries',\n",
              " 'map_keys',\n",
              " 'map_values',\n",
              " 'map_zip_with',\n",
              " 'max',\n",
              " 'max_by',\n",
              " 'md5',\n",
              " 'mean',\n",
              " 'median',\n",
              " 'min',\n",
              " 'min_by',\n",
              " 'minute',\n",
              " 'mode',\n",
              " 'monotonically_increasing_id',\n",
              " 'month',\n",
              " 'months',\n",
              " 'months_between',\n",
              " 'nanvl',\n",
              " 'next_day',\n",
              " 'np',\n",
              " 'nth_value',\n",
              " 'ntile',\n",
              " 'octet_length',\n",
              " 'overlay',\n",
              " 'overload',\n",
              " 'pandas_udf',\n",
              " 'percent_rank',\n",
              " 'percentile_approx',\n",
              " 'pmod',\n",
              " 'posexplode',\n",
              " 'posexplode_outer',\n",
              " 'pow',\n",
              " 'product',\n",
              " 'quarter',\n",
              " 'radians',\n",
              " 'raise_error',\n",
              " 'rand',\n",
              " 'randn',\n",
              " 'rank',\n",
              " 'regexp_extract',\n",
              " 'regexp_replace',\n",
              " 'repeat',\n",
              " 'reverse',\n",
              " 'rint',\n",
              " 'round',\n",
              " 'row_number',\n",
              " 'rpad',\n",
              " 'rtrim',\n",
              " 'schema_of_csv',\n",
              " 'schema_of_json',\n",
              " 'sec',\n",
              " 'second',\n",
              " 'sentences',\n",
              " 'sequence',\n",
              " 'session_window',\n",
              " 'sha1',\n",
              " 'sha2',\n",
              " 'shiftLeft',\n",
              " 'shiftRight',\n",
              " 'shiftRightUnsigned',\n",
              " 'shiftleft',\n",
              " 'shiftright',\n",
              " 'shiftrightunsigned',\n",
              " 'shuffle',\n",
              " 'signum',\n",
              " 'sin',\n",
              " 'sinh',\n",
              " 'size',\n",
              " 'skewness',\n",
              " 'slice',\n",
              " 'sort_array',\n",
              " 'soundex',\n",
              " 'spark_partition_id',\n",
              " 'split',\n",
              " 'sqrt',\n",
              " 'stddev',\n",
              " 'stddev_pop',\n",
              " 'stddev_samp',\n",
              " 'struct',\n",
              " 'substring',\n",
              " 'substring_index',\n",
              " 'sum',\n",
              " 'sumDistinct',\n",
              " 'sum_distinct',\n",
              " 'sys',\n",
              " 'tan',\n",
              " 'tanh',\n",
              " 'timestamp_seconds',\n",
              " 'toDegrees',\n",
              " 'toRadians',\n",
              " 'to_csv',\n",
              " 'to_date',\n",
              " 'to_json',\n",
              " 'to_str',\n",
              " 'to_timestamp',\n",
              " 'to_utc_timestamp',\n",
              " 'transform',\n",
              " 'transform_keys',\n",
              " 'transform_values',\n",
              " 'translate',\n",
              " 'trim',\n",
              " 'trunc',\n",
              " 'try_remote_functions',\n",
              " 'udf',\n",
              " 'unbase64',\n",
              " 'unhex',\n",
              " 'unix_timestamp',\n",
              " 'unwrap_udt',\n",
              " 'upper',\n",
              " 'var_pop',\n",
              " 'var_samp',\n",
              " 'variance',\n",
              " 'warnings',\n",
              " 'weekofyear',\n",
              " 'when',\n",
              " 'window',\n",
              " 'window_time',\n",
              " 'xxhash64',\n",
              " 'year',\n",
              " 'years',\n",
              " 'zip_with']"
            ]
          },
          "metadata": {},
          "execution_count": 22
        }
      ]
    },
    {
      "cell_type": "code",
      "source": [
        "sum1=bank_data_spark.select(F.max('balance').alias('sum_balance'))\n",
        "sum1.collect()  # [Row(sum_balance=71188)]\n",
        "sum1.collect()[0] #Row(sum_balance=71188)\n",
        "sum1.collect()[0][0] #71188"
      ],
      "metadata": {
        "colab": {
          "base_uri": "https://localhost:8080/"
        },
        "id": "WVZL-nqLFu21",
        "outputId": "ef021de3-a266-4f30-a4bb-2c1f48a039dd"
      },
      "execution_count": null,
      "outputs": [
        {
          "output_type": "execute_result",
          "data": {
            "text/plain": [
              "71188"
            ]
          },
          "metadata": {},
          "execution_count": 29
        }
      ]
    },
    {
      "cell_type": "code",
      "source": [
        "bank_data_spark.show()"
      ],
      "metadata": {
        "colab": {
          "base_uri": "https://localhost:8080/"
        },
        "id": "DbxS2aLiGM9t",
        "outputId": "17a746be-499a-44f4-d81c-5704588365c4"
      },
      "execution_count": null,
      "outputs": [
        {
          "output_type": "stream",
          "name": "stdout",
          "text": [
            "+---+-------------+-------+---------+-------+-------+-------+----+--------+---+-----+--------+--------+-----+--------+--------+---+\n",
            "|age|          job|marital|education|default|balance|housing|loan| contact|day|month|duration|campaign|pdays|previous|poutcome|  y|\n",
            "+---+-------------+-------+---------+-------+-------+-------+----+--------+---+-----+--------+--------+-----+--------+--------+---+\n",
            "| 30|   unemployed|married|  primary|     no|   1787|     no|  no|cellular| 19|  oct|      79|       1|   -1|       0| unknown| no|\n",
            "| 33|     services|married|secondary|     no|   4789|    yes| yes|cellular| 11|  may|     220|       1|  339|       4| failure| no|\n",
            "| 35|   management| single| tertiary|     no|   1350|    yes|  no|cellular| 16|  apr|     185|       1|  330|       1| failure| no|\n",
            "| 30|   management|married| tertiary|     no|   1476|    yes| yes| unknown|  3|  jun|     199|       4|   -1|       0| unknown| no|\n",
            "| 59|  blue-collar|married|secondary|     no|      0|    yes|  no| unknown|  5|  may|     226|       1|   -1|       0| unknown| no|\n",
            "| 35|   management| single| tertiary|     no|    747|     no|  no|cellular| 23|  feb|     141|       2|  176|       3| failure| no|\n",
            "| 36|self-employed|married| tertiary|     no|    307|    yes|  no|cellular| 14|  may|     341|       1|  330|       2|   other| no|\n",
            "| 39|   technician|married|secondary|     no|    147|    yes|  no|cellular|  6|  may|     151|       2|   -1|       0| unknown| no|\n",
            "| 41| entrepreneur|married| tertiary|     no|    221|    yes|  no| unknown| 14|  may|      57|       2|   -1|       0| unknown| no|\n",
            "| 43|     services|married|  primary|     no|    -88|    yes| yes|cellular| 17|  apr|     313|       1|  147|       2| failure| no|\n",
            "| 39|     services|married|secondary|     no|   9374|    yes|  no| unknown| 20|  may|     273|       1|   -1|       0| unknown| no|\n",
            "| 43|       admin.|married|secondary|     no|    264|    yes|  no|cellular| 17|  apr|     113|       2|   -1|       0| unknown| no|\n",
            "| 36|   technician|married| tertiary|     no|   1109|     no|  no|cellular| 13|  aug|     328|       2|   -1|       0| unknown| no|\n",
            "| 20|      student| single|secondary|     no|    502|     no|  no|cellular| 30|  apr|     261|       1|   -1|       0| unknown|yes|\n",
            "| 31|  blue-collar|married|secondary|     no|    360|    yes| yes|cellular| 29|  jan|      89|       1|  241|       1| failure| no|\n",
            "| 40|   management|married| tertiary|     no|    194|     no| yes|cellular| 29|  aug|     189|       2|   -1|       0| unknown| no|\n",
            "| 56|   technician|married|secondary|     no|   4073|     no|  no|cellular| 27|  aug|     239|       5|   -1|       0| unknown| no|\n",
            "| 37|       admin.| single| tertiary|     no|   2317|    yes|  no|cellular| 20|  apr|     114|       1|  152|       2| failure| no|\n",
            "| 25|  blue-collar| single|  primary|     no|   -221|    yes|  no| unknown| 23|  may|     250|       1|   -1|       0| unknown| no|\n",
            "| 31|     services|married|secondary|     no|    132|     no|  no|cellular|  7|  jul|     148|       1|  152|       1|   other| no|\n",
            "+---+-------------+-------+---------+-------+-------+-------+----+--------+---+-----+--------+--------+-----+--------+--------+---+\n",
            "only showing top 20 rows\n",
            "\n"
          ]
        }
      ]
    },
    {
      "cell_type": "code",
      "source": [
        "bank_data_spark.groupBy('job').sum('balance').show()"
      ],
      "metadata": {
        "colab": {
          "base_uri": "https://localhost:8080/"
        },
        "id": "wonoBkqLHEwf",
        "outputId": "62ec7032-7f8f-4b19-d69f-0ad4fde7701e"
      },
      "execution_count": null,
      "outputs": [
        {
          "output_type": "stream",
          "name": "stdout",
          "text": [
            "+-------------+------------+\n",
            "|          job|sum(balance)|\n",
            "+-------------+------------+\n",
            "|   management|     1712154|\n",
            "|      retired|      533414|\n",
            "|      unknown|       57065|\n",
            "|self-employed|      254811|\n",
            "|      student|      129681|\n",
            "|  blue-collar|     1026563|\n",
            "| entrepreneur|      276381|\n",
            "|       admin.|      586380|\n",
            "|   technician|     1022205|\n",
            "|     services|      460350|\n",
            "|    housemaid|      233386|\n",
            "|   unemployed|      139446|\n",
            "+-------------+------------+\n",
            "\n"
          ]
        }
      ]
    },
    {
      "cell_type": "code",
      "source": [
        "bank_data_spark.select(sum('balance'),avg('balance')).show()"
      ],
      "metadata": {
        "colab": {
          "base_uri": "https://localhost:8080/"
        },
        "id": "RwyJNv3MHsNc",
        "outputId": "0e26b070-c6c9-4058-91ce-1fd465f49fe9"
      },
      "execution_count": null,
      "outputs": [
        {
          "output_type": "stream",
          "name": "stdout",
          "text": [
            "+------------+------------------+\n",
            "|sum(balance)|      avg(balance)|\n",
            "+------------+------------------+\n",
            "|     6431836|1422.6578190665782|\n",
            "+------------+------------------+\n",
            "\n"
          ]
        }
      ]
    },
    {
      "cell_type": "code",
      "source": [
        "bank_data_spark.groupBy('job').sum('balance','pdays').show()"
      ],
      "metadata": {
        "colab": {
          "base_uri": "https://localhost:8080/"
        },
        "id": "bPsrTkxlISCn",
        "outputId": "058d3bd5-299a-42a0-dfbb-fb17816c5d0a"
      },
      "execution_count": null,
      "outputs": [
        {
          "output_type": "stream",
          "name": "stdout",
          "text": [
            "+-------------+------------+----------+\n",
            "|          job|sum(balance)|sum(pdays)|\n",
            "+-------------+------------+----------+\n",
            "|   management|     1712154|     39698|\n",
            "|      retired|      533414|      8067|\n",
            "|      unknown|       57065|      1377|\n",
            "|self-employed|      254811|      5171|\n",
            "|      student|      129681|      3840|\n",
            "|  blue-collar|     1026563|     39345|\n",
            "| entrepreneur|      276381|      5422|\n",
            "|       admin.|      586380|     23897|\n",
            "|   technician|     1022205|     30156|\n",
            "|     services|      460350|     15167|\n",
            "|    housemaid|      233386|      2957|\n",
            "|   unemployed|      139446|      4688|\n",
            "+-------------+------------+----------+\n",
            "\n"
          ]
        }
      ]
    },
    {
      "cell_type": "markdown",
      "source": [
        "$aggregations$"
      ],
      "metadata": {
        "id": "eKUpcXPwJd7T"
      }
    },
    {
      "cell_type": "code",
      "source": [
        "# agg(v1,v2,v3....)\n",
        "bank_data_spark.groupBy('job')\\\n",
        "                .agg(F.sum('balance').alias('balance_sum'),\n",
        "                     F.sum('pdays').alias('pdays_sum'),\n",
        "                     F.count('job').alias('count')).show()"
      ],
      "metadata": {
        "colab": {
          "base_uri": "https://localhost:8080/"
        },
        "id": "_OjrRHKXJCVb",
        "outputId": "71c3df9d-f261-48b3-8140-45b4705c61ef"
      },
      "execution_count": null,
      "outputs": [
        {
          "output_type": "stream",
          "name": "stdout",
          "text": [
            "+-------------+-----------+---------+-----+\n",
            "|          job|balance_sum|pdays_sum|count|\n",
            "+-------------+-----------+---------+-----+\n",
            "|   management|    1712154|    39698|  969|\n",
            "|      retired|     533414|     8067|  230|\n",
            "|      unknown|      57065|     1377|   38|\n",
            "|self-employed|     254811|     5171|  183|\n",
            "|      student|     129681|     3840|   84|\n",
            "|  blue-collar|    1026563|    39345|  946|\n",
            "| entrepreneur|     276381|     5422|  168|\n",
            "|       admin.|     586380|    23897|  478|\n",
            "|   technician|    1022205|    30156|  768|\n",
            "|     services|     460350|    15167|  417|\n",
            "|    housemaid|     233386|     2957|  112|\n",
            "|   unemployed|     139446|     4688|  128|\n",
            "+-------------+-----------+---------+-----+\n",
            "\n"
          ]
        }
      ]
    },
    {
      "cell_type": "markdown",
      "source": [
        "**Column operations**\n",
        "\n",
        "- Change the data type of column\n",
        "\n",
        "- selecting columns we have col method"
      ],
      "metadata": {
        "id": "XhGbiy4AKmAk"
      }
    },
    {
      "cell_type": "code",
      "source": [
        "from pyspark.sql.functions import col,lit"
      ],
      "metadata": {
        "id": "xJiBiJiBJw7e"
      },
      "execution_count": null,
      "outputs": []
    },
    {
      "cell_type": "code",
      "source": [
        "bank_data_spark.select(['age','balance']).show()"
      ],
      "metadata": {
        "colab": {
          "base_uri": "https://localhost:8080/"
        },
        "id": "c1pWd_wVK6bl",
        "outputId": "1d9dc236-037c-443e-cd31-1516013874f1"
      },
      "execution_count": null,
      "outputs": [
        {
          "output_type": "stream",
          "name": "stdout",
          "text": [
            "+---+-------+\n",
            "|age|balance|\n",
            "+---+-------+\n",
            "| 30|   1787|\n",
            "| 33|   4789|\n",
            "| 35|   1350|\n",
            "| 30|   1476|\n",
            "| 59|      0|\n",
            "| 35|    747|\n",
            "| 36|    307|\n",
            "| 39|    147|\n",
            "| 41|    221|\n",
            "| 43|    -88|\n",
            "| 39|   9374|\n",
            "| 43|    264|\n",
            "| 36|   1109|\n",
            "| 20|    502|\n",
            "| 31|    360|\n",
            "| 40|    194|\n",
            "| 56|   4073|\n",
            "| 37|   2317|\n",
            "| 25|   -221|\n",
            "| 31|    132|\n",
            "+---+-------+\n",
            "only showing top 20 rows\n",
            "\n"
          ]
        }
      ]
    },
    {
      "cell_type": "code",
      "source": [
        "bank_data_spark.select(col('age'),col('balance')).show()\n",
        "#bank_data_spark.select('age').show()     # also works"
      ],
      "metadata": {
        "colab": {
          "base_uri": "https://localhost:8080/"
        },
        "id": "Tvnha5L7LBLb",
        "outputId": "b9d208b3-3d4a-438f-adb2-0f452100f525"
      },
      "execution_count": null,
      "outputs": [
        {
          "output_type": "stream",
          "name": "stdout",
          "text": [
            "+---+-------+\n",
            "|age|balance|\n",
            "+---+-------+\n",
            "| 30|   1787|\n",
            "| 33|   4789|\n",
            "| 35|   1350|\n",
            "| 30|   1476|\n",
            "| 59|      0|\n",
            "| 35|    747|\n",
            "| 36|    307|\n",
            "| 39|    147|\n",
            "| 41|    221|\n",
            "| 43|    -88|\n",
            "| 39|   9374|\n",
            "| 43|    264|\n",
            "| 36|   1109|\n",
            "| 20|    502|\n",
            "| 31|    360|\n",
            "| 40|    194|\n",
            "| 56|   4073|\n",
            "| 37|   2317|\n",
            "| 25|   -221|\n",
            "| 31|    132|\n",
            "+---+-------+\n",
            "only showing top 20 rows\n",
            "\n"
          ]
        }
      ]
    },
    {
      "cell_type": "code",
      "source": [
        "bank_data_spark.select('age').collect()[0][0]\n",
        "# int type"
      ],
      "metadata": {
        "colab": {
          "base_uri": "https://localhost:8080/"
        },
        "id": "uh46n-QcLK6o",
        "outputId": "edbc43c4-6a39-4ddc-a6fe-2a9972074ca1"
      },
      "execution_count": null,
      "outputs": [
        {
          "output_type": "execute_result",
          "data": {
            "text/plain": [
              "30"
            ]
          },
          "metadata": {},
          "execution_count": 49
        }
      ]
    },
    {
      "cell_type": "code",
      "source": [
        "d1=bank_data_spark.withColumn('age',col('age').cast('string'))\n",
        "d1.select('age').collect()[0][0] # string type"
      ],
      "metadata": {
        "colab": {
          "base_uri": "https://localhost:8080/",
          "height": 36
        },
        "id": "zwm9fQL1LrDg",
        "outputId": "eb6a6c17-e7e6-4f94-dfbb-6e18848b62ed"
      },
      "execution_count": null,
      "outputs": [
        {
          "output_type": "execute_result",
          "data": {
            "text/plain": [
              "'30'"
            ],
            "application/vnd.google.colaboratory.intrinsic+json": {
              "type": "string"
            }
          },
          "metadata": {},
          "execution_count": 48
        }
      ]
    },
    {
      "cell_type": "code",
      "source": [
        "d2=bank_data_spark.withColumn('age_1',col('age').cast('string'))\n",
        "d2.select(['age','age_1']).show(2)\n",
        "#d1.select('age').collect()[0][0]\n",
        "d2\n",
        "\n",
        "# age======== > integer\n",
        "# age_1 ==== > string"
      ],
      "metadata": {
        "colab": {
          "base_uri": "https://localhost:8080/"
        },
        "id": "GNru4QjMMAuW",
        "outputId": "c5cdd550-ce87-4c50-8629-139fc0e2da87"
      },
      "execution_count": null,
      "outputs": [
        {
          "output_type": "stream",
          "name": "stdout",
          "text": [
            "+---+-----+\n",
            "|age|age_1|\n",
            "+---+-----+\n",
            "| 30|   30|\n",
            "| 33|   33|\n",
            "+---+-----+\n",
            "only showing top 2 rows\n",
            "\n"
          ]
        },
        {
          "output_type": "execute_result",
          "data": {
            "text/plain": [
              "DataFrame[age: int, job: string, marital: string, education: string, default: string, balance: int, housing: string, loan: string, contact: string, day: int, month: string, duration: int, campaign: int, pdays: int, previous: int, poutcome: string, y: string, age_1: string]"
            ]
          },
          "metadata": {},
          "execution_count": 54
        }
      ]
    },
    {
      "cell_type": "code",
      "source": [
        "d3=bank_data_spark.withColumn('age_100',col('age')*100)\n",
        "d3.select('age','age_100').show()\n",
        "\n",
        "# inplace=True"
      ],
      "metadata": {
        "colab": {
          "base_uri": "https://localhost:8080/"
        },
        "id": "FkRz4ioPMtTf",
        "outputId": "39560360-4a20-420f-bf2a-1a0daf33e72e"
      },
      "execution_count": null,
      "outputs": [
        {
          "output_type": "stream",
          "name": "stdout",
          "text": [
            "+---+-------+\n",
            "|age|age_100|\n",
            "+---+-------+\n",
            "| 30|   3000|\n",
            "| 33|   3300|\n",
            "| 35|   3500|\n",
            "| 30|   3000|\n",
            "| 59|   5900|\n",
            "| 35|   3500|\n",
            "| 36|   3600|\n",
            "| 39|   3900|\n",
            "| 41|   4100|\n",
            "| 43|   4300|\n",
            "| 39|   3900|\n",
            "| 43|   4300|\n",
            "| 36|   3600|\n",
            "| 20|   2000|\n",
            "| 31|   3100|\n",
            "| 40|   4000|\n",
            "| 56|   5600|\n",
            "| 37|   3700|\n",
            "| 25|   2500|\n",
            "| 31|   3100|\n",
            "+---+-------+\n",
            "only showing top 20 rows\n",
            "\n"
          ]
        }
      ]
    },
    {
      "cell_type": "markdown",
      "source": [
        "**Create a new column with default values**\n",
        "\n",
        "$lit$"
      ],
      "metadata": {
        "id": "gZ41qae2N6Gt"
      }
    },
    {
      "cell_type": "code",
      "source": [
        "bank_data_spark.withColumn(\"Country\",lit('India')).show()"
      ],
      "metadata": {
        "colab": {
          "base_uri": "https://localhost:8080/"
        },
        "id": "MZSS_13ONiyJ",
        "outputId": "59a81af5-fcca-455d-a8f6-1bf2748e7296"
      },
      "execution_count": null,
      "outputs": [
        {
          "output_type": "stream",
          "name": "stdout",
          "text": [
            "+---+-------------+-------+---------+-------+-------+-------+----+--------+---+-----+--------+--------+-----+--------+--------+---+-------+\n",
            "|age|          job|marital|education|default|balance|housing|loan| contact|day|month|duration|campaign|pdays|previous|poutcome|  y|Country|\n",
            "+---+-------------+-------+---------+-------+-------+-------+----+--------+---+-----+--------+--------+-----+--------+--------+---+-------+\n",
            "| 30|   unemployed|married|  primary|     no|   1787|     no|  no|cellular| 19|  oct|      79|       1|   -1|       0| unknown| no|  India|\n",
            "| 33|     services|married|secondary|     no|   4789|    yes| yes|cellular| 11|  may|     220|       1|  339|       4| failure| no|  India|\n",
            "| 35|   management| single| tertiary|     no|   1350|    yes|  no|cellular| 16|  apr|     185|       1|  330|       1| failure| no|  India|\n",
            "| 30|   management|married| tertiary|     no|   1476|    yes| yes| unknown|  3|  jun|     199|       4|   -1|       0| unknown| no|  India|\n",
            "| 59|  blue-collar|married|secondary|     no|      0|    yes|  no| unknown|  5|  may|     226|       1|   -1|       0| unknown| no|  India|\n",
            "| 35|   management| single| tertiary|     no|    747|     no|  no|cellular| 23|  feb|     141|       2|  176|       3| failure| no|  India|\n",
            "| 36|self-employed|married| tertiary|     no|    307|    yes|  no|cellular| 14|  may|     341|       1|  330|       2|   other| no|  India|\n",
            "| 39|   technician|married|secondary|     no|    147|    yes|  no|cellular|  6|  may|     151|       2|   -1|       0| unknown| no|  India|\n",
            "| 41| entrepreneur|married| tertiary|     no|    221|    yes|  no| unknown| 14|  may|      57|       2|   -1|       0| unknown| no|  India|\n",
            "| 43|     services|married|  primary|     no|    -88|    yes| yes|cellular| 17|  apr|     313|       1|  147|       2| failure| no|  India|\n",
            "| 39|     services|married|secondary|     no|   9374|    yes|  no| unknown| 20|  may|     273|       1|   -1|       0| unknown| no|  India|\n",
            "| 43|       admin.|married|secondary|     no|    264|    yes|  no|cellular| 17|  apr|     113|       2|   -1|       0| unknown| no|  India|\n",
            "| 36|   technician|married| tertiary|     no|   1109|     no|  no|cellular| 13|  aug|     328|       2|   -1|       0| unknown| no|  India|\n",
            "| 20|      student| single|secondary|     no|    502|     no|  no|cellular| 30|  apr|     261|       1|   -1|       0| unknown|yes|  India|\n",
            "| 31|  blue-collar|married|secondary|     no|    360|    yes| yes|cellular| 29|  jan|      89|       1|  241|       1| failure| no|  India|\n",
            "| 40|   management|married| tertiary|     no|    194|     no| yes|cellular| 29|  aug|     189|       2|   -1|       0| unknown| no|  India|\n",
            "| 56|   technician|married|secondary|     no|   4073|     no|  no|cellular| 27|  aug|     239|       5|   -1|       0| unknown| no|  India|\n",
            "| 37|       admin.| single| tertiary|     no|   2317|    yes|  no|cellular| 20|  apr|     114|       1|  152|       2| failure| no|  India|\n",
            "| 25|  blue-collar| single|  primary|     no|   -221|    yes|  no| unknown| 23|  may|     250|       1|   -1|       0| unknown| no|  India|\n",
            "| 31|     services|married|secondary|     no|    132|     no|  no|cellular|  7|  jul|     148|       1|  152|       1|   other| no|  India|\n",
            "+---+-------------+-------+---------+-------+-------+-------+----+--------+---+-----+--------+--------+-----+--------+--------+---+-------+\n",
            "only showing top 20 rows\n",
            "\n"
          ]
        }
      ]
    },
    {
      "cell_type": "code",
      "source": [],
      "metadata": {
        "id": "DMqD60t3OJX7"
      },
      "execution_count": null,
      "outputs": []
    },
    {
      "cell_type": "markdown",
      "source": [
        "**Rename the columns**\n",
        "\n",
        "- Education column name to Study"
      ],
      "metadata": {
        "id": "mSGsHh_sOfI3"
      }
    },
    {
      "cell_type": "code",
      "source": [
        "# withColumn\n",
        "# withColumnRenamed\n",
        "bank_data_spark.withColumnRenamed(\"education\",\"study\").show(truncate=False)"
      ],
      "metadata": {
        "colab": {
          "base_uri": "https://localhost:8080/"
        },
        "id": "7uHuY35DOkof",
        "outputId": "601bf55d-b9f0-4f3b-8f8a-59fc8acb10ac"
      },
      "execution_count": null,
      "outputs": [
        {
          "output_type": "stream",
          "name": "stdout",
          "text": [
            "+---+-------------+-------+---------+-------+-------+-------+----+--------+---+-----+--------+--------+-----+--------+--------+---+\n",
            "|age|job          |marital|study    |default|balance|housing|loan|contact |day|month|duration|campaign|pdays|previous|poutcome|y  |\n",
            "+---+-------------+-------+---------+-------+-------+-------+----+--------+---+-----+--------+--------+-----+--------+--------+---+\n",
            "|30 |unemployed   |married|primary  |no     |1787   |no     |no  |cellular|19 |oct  |79      |1       |-1   |0       |unknown |no |\n",
            "|33 |services     |married|secondary|no     |4789   |yes    |yes |cellular|11 |may  |220     |1       |339  |4       |failure |no |\n",
            "|35 |management   |single |tertiary |no     |1350   |yes    |no  |cellular|16 |apr  |185     |1       |330  |1       |failure |no |\n",
            "|30 |management   |married|tertiary |no     |1476   |yes    |yes |unknown |3  |jun  |199     |4       |-1   |0       |unknown |no |\n",
            "|59 |blue-collar  |married|secondary|no     |0      |yes    |no  |unknown |5  |may  |226     |1       |-1   |0       |unknown |no |\n",
            "|35 |management   |single |tertiary |no     |747    |no     |no  |cellular|23 |feb  |141     |2       |176  |3       |failure |no |\n",
            "|36 |self-employed|married|tertiary |no     |307    |yes    |no  |cellular|14 |may  |341     |1       |330  |2       |other   |no |\n",
            "|39 |technician   |married|secondary|no     |147    |yes    |no  |cellular|6  |may  |151     |2       |-1   |0       |unknown |no |\n",
            "|41 |entrepreneur |married|tertiary |no     |221    |yes    |no  |unknown |14 |may  |57      |2       |-1   |0       |unknown |no |\n",
            "|43 |services     |married|primary  |no     |-88    |yes    |yes |cellular|17 |apr  |313     |1       |147  |2       |failure |no |\n",
            "|39 |services     |married|secondary|no     |9374   |yes    |no  |unknown |20 |may  |273     |1       |-1   |0       |unknown |no |\n",
            "|43 |admin.       |married|secondary|no     |264    |yes    |no  |cellular|17 |apr  |113     |2       |-1   |0       |unknown |no |\n",
            "|36 |technician   |married|tertiary |no     |1109   |no     |no  |cellular|13 |aug  |328     |2       |-1   |0       |unknown |no |\n",
            "|20 |student      |single |secondary|no     |502    |no     |no  |cellular|30 |apr  |261     |1       |-1   |0       |unknown |yes|\n",
            "|31 |blue-collar  |married|secondary|no     |360    |yes    |yes |cellular|29 |jan  |89      |1       |241  |1       |failure |no |\n",
            "|40 |management   |married|tertiary |no     |194    |no     |yes |cellular|29 |aug  |189     |2       |-1   |0       |unknown |no |\n",
            "|56 |technician   |married|secondary|no     |4073   |no     |no  |cellular|27 |aug  |239     |5       |-1   |0       |unknown |no |\n",
            "|37 |admin.       |single |tertiary |no     |2317   |yes    |no  |cellular|20 |apr  |114     |1       |152  |2       |failure |no |\n",
            "|25 |blue-collar  |single |primary  |no     |-221   |yes    |no  |unknown |23 |may  |250     |1       |-1   |0       |unknown |no |\n",
            "|31 |services     |married|secondary|no     |132    |no     |no  |cellular|7  |jul  |148     |1       |152  |1       |other   |no |\n",
            "+---+-------------+-------+---------+-------+-------+-------+----+--------+---+-----+--------+--------+-----+--------+--------+---+\n",
            "only showing top 20 rows\n",
            "\n"
          ]
        }
      ]
    },
    {
      "cell_type": "code",
      "source": [],
      "metadata": {
        "id": "pgzNQc-uOxdL"
      },
      "execution_count": null,
      "outputs": []
    },
    {
      "cell_type": "markdown",
      "source": [
        "**Drop the column**"
      ],
      "metadata": {
        "id": "TK4asaH4PFL1"
      }
    },
    {
      "cell_type": "code",
      "source": [
        "bank_data_spark.drop('education').show()"
      ],
      "metadata": {
        "colab": {
          "base_uri": "https://localhost:8080/"
        },
        "id": "zcyB5mLIPHus",
        "outputId": "caf5f5b3-d321-4ba1-af21-550c12e563e8"
      },
      "execution_count": null,
      "outputs": [
        {
          "output_type": "stream",
          "name": "stdout",
          "text": [
            "+---+-------------+-------+-------+-------+-------+----+--------+---+-----+--------+--------+-----+--------+--------+---+\n",
            "|age|          job|marital|default|balance|housing|loan| contact|day|month|duration|campaign|pdays|previous|poutcome|  y|\n",
            "+---+-------------+-------+-------+-------+-------+----+--------+---+-----+--------+--------+-----+--------+--------+---+\n",
            "| 30|   unemployed|married|     no|   1787|     no|  no|cellular| 19|  oct|      79|       1|   -1|       0| unknown| no|\n",
            "| 33|     services|married|     no|   4789|    yes| yes|cellular| 11|  may|     220|       1|  339|       4| failure| no|\n",
            "| 35|   management| single|     no|   1350|    yes|  no|cellular| 16|  apr|     185|       1|  330|       1| failure| no|\n",
            "| 30|   management|married|     no|   1476|    yes| yes| unknown|  3|  jun|     199|       4|   -1|       0| unknown| no|\n",
            "| 59|  blue-collar|married|     no|      0|    yes|  no| unknown|  5|  may|     226|       1|   -1|       0| unknown| no|\n",
            "| 35|   management| single|     no|    747|     no|  no|cellular| 23|  feb|     141|       2|  176|       3| failure| no|\n",
            "| 36|self-employed|married|     no|    307|    yes|  no|cellular| 14|  may|     341|       1|  330|       2|   other| no|\n",
            "| 39|   technician|married|     no|    147|    yes|  no|cellular|  6|  may|     151|       2|   -1|       0| unknown| no|\n",
            "| 41| entrepreneur|married|     no|    221|    yes|  no| unknown| 14|  may|      57|       2|   -1|       0| unknown| no|\n",
            "| 43|     services|married|     no|    -88|    yes| yes|cellular| 17|  apr|     313|       1|  147|       2| failure| no|\n",
            "| 39|     services|married|     no|   9374|    yes|  no| unknown| 20|  may|     273|       1|   -1|       0| unknown| no|\n",
            "| 43|       admin.|married|     no|    264|    yes|  no|cellular| 17|  apr|     113|       2|   -1|       0| unknown| no|\n",
            "| 36|   technician|married|     no|   1109|     no|  no|cellular| 13|  aug|     328|       2|   -1|       0| unknown| no|\n",
            "| 20|      student| single|     no|    502|     no|  no|cellular| 30|  apr|     261|       1|   -1|       0| unknown|yes|\n",
            "| 31|  blue-collar|married|     no|    360|    yes| yes|cellular| 29|  jan|      89|       1|  241|       1| failure| no|\n",
            "| 40|   management|married|     no|    194|     no| yes|cellular| 29|  aug|     189|       2|   -1|       0| unknown| no|\n",
            "| 56|   technician|married|     no|   4073|     no|  no|cellular| 27|  aug|     239|       5|   -1|       0| unknown| no|\n",
            "| 37|       admin.| single|     no|   2317|    yes|  no|cellular| 20|  apr|     114|       1|  152|       2| failure| no|\n",
            "| 25|  blue-collar| single|     no|   -221|    yes|  no| unknown| 23|  may|     250|       1|   -1|       0| unknown| no|\n",
            "| 31|     services|married|     no|    132|     no|  no|cellular|  7|  jul|     148|       1|  152|       1|   other| no|\n",
            "+---+-------------+-------+-------+-------+-------+----+--------+---+-----+--------+--------+-----+--------+--------+---+\n",
            "only showing top 20 rows\n",
            "\n"
          ]
        }
      ]
    },
    {
      "cell_type": "code",
      "source": [],
      "metadata": {
        "id": "EQnzVu37PL6A"
      },
      "execution_count": null,
      "outputs": []
    },
    {
      "cell_type": "markdown",
      "source": [
        "**When**\n",
        "\n",
        "when(condition).otherwise(default)\n",
        "\n",
        "- Job category wherever management is there I want replace with Blue-Collar\n",
        "- Remaining are as it is"
      ],
      "metadata": {
        "id": "z1XOG_lVPb_S"
      }
    },
    {
      "cell_type": "code",
      "source": [
        "from pyspark.sql.functions import when\n",
        "\n",
        "#import pyspark.sql.functions as F\n",
        "\n",
        "#F.when"
      ],
      "metadata": {
        "id": "15C5OS2IP0CV"
      },
      "execution_count": null,
      "outputs": []
    },
    {
      "cell_type": "code",
      "source": [
        "# when(condition).otherwise(default)\n",
        "condition= when(bank_data_spark.job=='management','Blue-collar').otherwise(bank_data_spark.job)\n",
        "bank_data_spark.select(col('*'),condition).show()\n",
        "\n",
        "\n",
        "#CASE WHEN (job = management) THEN Blue-collar ELSE job END|"
      ],
      "metadata": {
        "colab": {
          "base_uri": "https://localhost:8080/"
        },
        "id": "gjLd-0A4P-wP",
        "outputId": "3f21ffce-4c2e-4c41-e46d-6a76df2405f9"
      },
      "execution_count": null,
      "outputs": [
        {
          "output_type": "stream",
          "name": "stdout",
          "text": [
            "+---+-------------+-------+---------+-------+-------+-------+----+--------+---+-----+--------+--------+-----+--------+--------+---+----------------------------------------------------------+\n",
            "|age|          job|marital|education|default|balance|housing|loan| contact|day|month|duration|campaign|pdays|previous|poutcome|  y|CASE WHEN (job = management) THEN Blue-collar ELSE job END|\n",
            "+---+-------------+-------+---------+-------+-------+-------+----+--------+---+-----+--------+--------+-----+--------+--------+---+----------------------------------------------------------+\n",
            "| 30|   unemployed|married|  primary|     no|   1787|     no|  no|cellular| 19|  oct|      79|       1|   -1|       0| unknown| no|                                                unemployed|\n",
            "| 33|     services|married|secondary|     no|   4789|    yes| yes|cellular| 11|  may|     220|       1|  339|       4| failure| no|                                                  services|\n",
            "| 35|   management| single| tertiary|     no|   1350|    yes|  no|cellular| 16|  apr|     185|       1|  330|       1| failure| no|                                               Blue-collar|\n",
            "| 30|   management|married| tertiary|     no|   1476|    yes| yes| unknown|  3|  jun|     199|       4|   -1|       0| unknown| no|                                               Blue-collar|\n",
            "| 59|  blue-collar|married|secondary|     no|      0|    yes|  no| unknown|  5|  may|     226|       1|   -1|       0| unknown| no|                                               blue-collar|\n",
            "| 35|   management| single| tertiary|     no|    747|     no|  no|cellular| 23|  feb|     141|       2|  176|       3| failure| no|                                               Blue-collar|\n",
            "| 36|self-employed|married| tertiary|     no|    307|    yes|  no|cellular| 14|  may|     341|       1|  330|       2|   other| no|                                             self-employed|\n",
            "| 39|   technician|married|secondary|     no|    147|    yes|  no|cellular|  6|  may|     151|       2|   -1|       0| unknown| no|                                                technician|\n",
            "| 41| entrepreneur|married| tertiary|     no|    221|    yes|  no| unknown| 14|  may|      57|       2|   -1|       0| unknown| no|                                              entrepreneur|\n",
            "| 43|     services|married|  primary|     no|    -88|    yes| yes|cellular| 17|  apr|     313|       1|  147|       2| failure| no|                                                  services|\n",
            "| 39|     services|married|secondary|     no|   9374|    yes|  no| unknown| 20|  may|     273|       1|   -1|       0| unknown| no|                                                  services|\n",
            "| 43|       admin.|married|secondary|     no|    264|    yes|  no|cellular| 17|  apr|     113|       2|   -1|       0| unknown| no|                                                    admin.|\n",
            "| 36|   technician|married| tertiary|     no|   1109|     no|  no|cellular| 13|  aug|     328|       2|   -1|       0| unknown| no|                                                technician|\n",
            "| 20|      student| single|secondary|     no|    502|     no|  no|cellular| 30|  apr|     261|       1|   -1|       0| unknown|yes|                                                   student|\n",
            "| 31|  blue-collar|married|secondary|     no|    360|    yes| yes|cellular| 29|  jan|      89|       1|  241|       1| failure| no|                                               blue-collar|\n",
            "| 40|   management|married| tertiary|     no|    194|     no| yes|cellular| 29|  aug|     189|       2|   -1|       0| unknown| no|                                               Blue-collar|\n",
            "| 56|   technician|married|secondary|     no|   4073|     no|  no|cellular| 27|  aug|     239|       5|   -1|       0| unknown| no|                                                technician|\n",
            "| 37|       admin.| single| tertiary|     no|   2317|    yes|  no|cellular| 20|  apr|     114|       1|  152|       2| failure| no|                                                    admin.|\n",
            "| 25|  blue-collar| single|  primary|     no|   -221|    yes|  no| unknown| 23|  may|     250|       1|   -1|       0| unknown| no|                                               blue-collar|\n",
            "| 31|     services|married|secondary|     no|    132|     no|  no|cellular|  7|  jul|     148|       1|  152|       1|   other| no|                                                  services|\n",
            "+---+-------------+-------+---------+-------+-------+-------+----+--------+---+-----+--------+--------+-----+--------+--------+---+----------------------------------------------------------+\n",
            "only showing top 20 rows\n",
            "\n"
          ]
        }
      ]
    },
    {
      "cell_type": "code",
      "source": [
        "# when(condition).otherwise(default).alias(<new_column>)\n",
        "condition= when(bank_data_spark.job=='management','Blue-collar').otherwise(bank_data_spark.job).alias('new_job')\n",
        "bank_data_spark.select(col('*'),condition).show()"
      ],
      "metadata": {
        "colab": {
          "base_uri": "https://localhost:8080/"
        },
        "id": "ZXiisVCFQjBv",
        "outputId": "c293bfdb-7349-4907-fa97-ef3456c6b629"
      },
      "execution_count": null,
      "outputs": [
        {
          "output_type": "stream",
          "name": "stdout",
          "text": [
            "+---+-------------+-------+---------+-------+-------+-------+----+--------+---+-----+--------+--------+-----+--------+--------+---+-------------+\n",
            "|age|          job|marital|education|default|balance|housing|loan| contact|day|month|duration|campaign|pdays|previous|poutcome|  y|      new_job|\n",
            "+---+-------------+-------+---------+-------+-------+-------+----+--------+---+-----+--------+--------+-----+--------+--------+---+-------------+\n",
            "| 30|   unemployed|married|  primary|     no|   1787|     no|  no|cellular| 19|  oct|      79|       1|   -1|       0| unknown| no|   unemployed|\n",
            "| 33|     services|married|secondary|     no|   4789|    yes| yes|cellular| 11|  may|     220|       1|  339|       4| failure| no|     services|\n",
            "| 35|   management| single| tertiary|     no|   1350|    yes|  no|cellular| 16|  apr|     185|       1|  330|       1| failure| no|  Blue-collar|\n",
            "| 30|   management|married| tertiary|     no|   1476|    yes| yes| unknown|  3|  jun|     199|       4|   -1|       0| unknown| no|  Blue-collar|\n",
            "| 59|  blue-collar|married|secondary|     no|      0|    yes|  no| unknown|  5|  may|     226|       1|   -1|       0| unknown| no|  blue-collar|\n",
            "| 35|   management| single| tertiary|     no|    747|     no|  no|cellular| 23|  feb|     141|       2|  176|       3| failure| no|  Blue-collar|\n",
            "| 36|self-employed|married| tertiary|     no|    307|    yes|  no|cellular| 14|  may|     341|       1|  330|       2|   other| no|self-employed|\n",
            "| 39|   technician|married|secondary|     no|    147|    yes|  no|cellular|  6|  may|     151|       2|   -1|       0| unknown| no|   technician|\n",
            "| 41| entrepreneur|married| tertiary|     no|    221|    yes|  no| unknown| 14|  may|      57|       2|   -1|       0| unknown| no| entrepreneur|\n",
            "| 43|     services|married|  primary|     no|    -88|    yes| yes|cellular| 17|  apr|     313|       1|  147|       2| failure| no|     services|\n",
            "| 39|     services|married|secondary|     no|   9374|    yes|  no| unknown| 20|  may|     273|       1|   -1|       0| unknown| no|     services|\n",
            "| 43|       admin.|married|secondary|     no|    264|    yes|  no|cellular| 17|  apr|     113|       2|   -1|       0| unknown| no|       admin.|\n",
            "| 36|   technician|married| tertiary|     no|   1109|     no|  no|cellular| 13|  aug|     328|       2|   -1|       0| unknown| no|   technician|\n",
            "| 20|      student| single|secondary|     no|    502|     no|  no|cellular| 30|  apr|     261|       1|   -1|       0| unknown|yes|      student|\n",
            "| 31|  blue-collar|married|secondary|     no|    360|    yes| yes|cellular| 29|  jan|      89|       1|  241|       1| failure| no|  blue-collar|\n",
            "| 40|   management|married| tertiary|     no|    194|     no| yes|cellular| 29|  aug|     189|       2|   -1|       0| unknown| no|  Blue-collar|\n",
            "| 56|   technician|married|secondary|     no|   4073|     no|  no|cellular| 27|  aug|     239|       5|   -1|       0| unknown| no|   technician|\n",
            "| 37|       admin.| single| tertiary|     no|   2317|    yes|  no|cellular| 20|  apr|     114|       1|  152|       2| failure| no|       admin.|\n",
            "| 25|  blue-collar| single|  primary|     no|   -221|    yes|  no| unknown| 23|  may|     250|       1|   -1|       0| unknown| no|  blue-collar|\n",
            "| 31|     services|married|secondary|     no|    132|     no|  no|cellular|  7|  jul|     148|       1|  152|       1|   other| no|     services|\n",
            "+---+-------------+-------+---------+-------+-------+-------+----+--------+---+-----+--------+--------+-----+--------+--------+---+-------------+\n",
            "only showing top 20 rows\n",
            "\n"
          ]
        }
      ]
    },
    {
      "cell_type": "code",
      "source": [
        "# when(condition).otherwise(default).alias(<new_column>)\n",
        "# for the y column yes =0 and No=1\n",
        "condition= when(bank_data_spark.y=='yes',0).otherwise(1).alias('new_y')\n",
        "bank_data_spark.select(col('*'),condition).show()"
      ],
      "metadata": {
        "colab": {
          "base_uri": "https://localhost:8080/"
        },
        "id": "ekIncm7IQ8vs",
        "outputId": "7956106e-e234-4c49-d51e-d0d06a3bca70"
      },
      "execution_count": null,
      "outputs": [
        {
          "output_type": "stream",
          "name": "stdout",
          "text": [
            "+---+-------------+-------+---------+-------+-------+-------+----+--------+---+-----+--------+--------+-----+--------+--------+---+-----+\n",
            "|age|          job|marital|education|default|balance|housing|loan| contact|day|month|duration|campaign|pdays|previous|poutcome|  y|new_y|\n",
            "+---+-------------+-------+---------+-------+-------+-------+----+--------+---+-----+--------+--------+-----+--------+--------+---+-----+\n",
            "| 30|   unemployed|married|  primary|     no|   1787|     no|  no|cellular| 19|  oct|      79|       1|   -1|       0| unknown| no|    1|\n",
            "| 33|     services|married|secondary|     no|   4789|    yes| yes|cellular| 11|  may|     220|       1|  339|       4| failure| no|    1|\n",
            "| 35|   management| single| tertiary|     no|   1350|    yes|  no|cellular| 16|  apr|     185|       1|  330|       1| failure| no|    1|\n",
            "| 30|   management|married| tertiary|     no|   1476|    yes| yes| unknown|  3|  jun|     199|       4|   -1|       0| unknown| no|    1|\n",
            "| 59|  blue-collar|married|secondary|     no|      0|    yes|  no| unknown|  5|  may|     226|       1|   -1|       0| unknown| no|    1|\n",
            "| 35|   management| single| tertiary|     no|    747|     no|  no|cellular| 23|  feb|     141|       2|  176|       3| failure| no|    1|\n",
            "| 36|self-employed|married| tertiary|     no|    307|    yes|  no|cellular| 14|  may|     341|       1|  330|       2|   other| no|    1|\n",
            "| 39|   technician|married|secondary|     no|    147|    yes|  no|cellular|  6|  may|     151|       2|   -1|       0| unknown| no|    1|\n",
            "| 41| entrepreneur|married| tertiary|     no|    221|    yes|  no| unknown| 14|  may|      57|       2|   -1|       0| unknown| no|    1|\n",
            "| 43|     services|married|  primary|     no|    -88|    yes| yes|cellular| 17|  apr|     313|       1|  147|       2| failure| no|    1|\n",
            "| 39|     services|married|secondary|     no|   9374|    yes|  no| unknown| 20|  may|     273|       1|   -1|       0| unknown| no|    1|\n",
            "| 43|       admin.|married|secondary|     no|    264|    yes|  no|cellular| 17|  apr|     113|       2|   -1|       0| unknown| no|    1|\n",
            "| 36|   technician|married| tertiary|     no|   1109|     no|  no|cellular| 13|  aug|     328|       2|   -1|       0| unknown| no|    1|\n",
            "| 20|      student| single|secondary|     no|    502|     no|  no|cellular| 30|  apr|     261|       1|   -1|       0| unknown|yes|    0|\n",
            "| 31|  blue-collar|married|secondary|     no|    360|    yes| yes|cellular| 29|  jan|      89|       1|  241|       1| failure| no|    1|\n",
            "| 40|   management|married| tertiary|     no|    194|     no| yes|cellular| 29|  aug|     189|       2|   -1|       0| unknown| no|    1|\n",
            "| 56|   technician|married|secondary|     no|   4073|     no|  no|cellular| 27|  aug|     239|       5|   -1|       0| unknown| no|    1|\n",
            "| 37|       admin.| single| tertiary|     no|   2317|    yes|  no|cellular| 20|  apr|     114|       1|  152|       2| failure| no|    1|\n",
            "| 25|  blue-collar| single|  primary|     no|   -221|    yes|  no| unknown| 23|  may|     250|       1|   -1|       0| unknown| no|    1|\n",
            "| 31|     services|married|secondary|     no|    132|     no|  no|cellular|  7|  jul|     148|       1|  152|       1|   other| no|    1|\n",
            "+---+-------------+-------+---------+-------+-------+-------+----+--------+---+-----+--------+--------+-----+--------+--------+---+-----+\n",
            "only showing top 20 rows\n",
            "\n"
          ]
        }
      ]
    },
    {
      "cell_type": "code",
      "source": [],
      "metadata": {
        "id": "RHqeE4VERRX2"
      },
      "execution_count": null,
      "outputs": []
    }
  ]
}